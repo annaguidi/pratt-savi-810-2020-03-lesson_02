{
 "cells": [
  {
   "cell_type": "markdown",
   "metadata": {},
   "source": [
    "# Lesson 02\n",
    "\n",
    "# Python Intro Continued; Libraries, Looping, Spatial Data Models, GitHub\n",
    "\n",
    "![http://www.pratt.edu/tiny_mce/plugins/imagemanager/files/Light_brown_blue22.jpg](http://www.pratt.edu/tiny_mce/plugins/imagemanager/files/Light_brown_blue22.jpg)"
   ]
  },
  {
   "cell_type": "markdown",
   "metadata": {
    "toc": true
   },
   "source": [
    "<h1>Table of Contents<span class=\"tocSkip\"></span></h1>\n",
    "<div class=\"toc\"><ul class=\"toc-item\"><li><span><a href=\"#Lesson-02\" data-toc-modified-id=\"Lesson-02-1\">Lesson 02</a></span></li><li><span><a href=\"#Python-Intro-Continued;-Libraries,-Looping,-Spatial-Data-Models,-GitHub\" data-toc-modified-id=\"Python-Intro-Continued;-Libraries,-Looping,-Spatial-Data-Models,-GitHub-2\">Python Intro Continued; Libraries, Looping, Spatial Data Models, GitHub</a></span><ul class=\"toc-item\"><li><span><a href=\"#Learning-Objectives\" data-toc-modified-id=\"Learning-Objectives-2.1\">Learning Objectives</a></span><ul class=\"toc-item\"><li><span><a href=\"#Fork-this-Lesson-Repo\" data-toc-modified-id=\"Fork-this-Lesson-Repo-2.1.1\">Fork this Lesson Repo</a></span></li></ul></li><li><span><a href=\"#GitHub\" data-toc-modified-id=\"GitHub-2.2\">GitHub</a></span></li></ul></li><li><span><a href=\"#Finishing-up-From-Lecture-01\" data-toc-modified-id=\"Finishing-up-From-Lecture-01-3\">Finishing up From Lecture 01</a></span><ul class=\"toc-item\"><li><span><a href=\"#Built-in-Python-Functions\" data-toc-modified-id=\"Built-in-Python-Functions-3.1\">Built-in Python Functions</a></span><ul class=\"toc-item\"><li><span><a href=\"#Python's-Built-in-Functions\" data-toc-modified-id=\"Python's-Built-in-Functions-3.1.1\">Python's Built-in Functions</a></span></li></ul></li><li><span><a href=\"#Python-Libraries\" data-toc-modified-id=\"Python-Libraries-3.2\">Python Libraries</a></span><ul class=\"toc-item\"><li><ul class=\"toc-item\"><li><span><a href=\"#You-can-import-a-library-for-handling-Dates-&amp;-Time-called-datetime\" data-toc-modified-id=\"You-can-import-a-library-for-handling-Dates-&amp;-Time-called-datetime-3.2.0.1\">You can import a library for handling Dates &amp; Time called datetime</a></span></li><li><span><a href=\"#You-can-install-packages-to-convert-text-to-ASCII-art\" data-toc-modified-id=\"You-can-install-packages-to-convert-text-to-ASCII-art-3.2.0.2\">You can install packages to convert text to ASCII art</a></span></li><li><span><a href=\"#You-can-import-plotting-libraries-like-matplotlib-for-data-visualization\" data-toc-modified-id=\"You-can-import-plotting-libraries-like-matplotlib-for-data-visualization-3.2.0.3\">You can import plotting libraries like <code>matplotlib</code> for data visualization</a></span></li></ul></li><li><span><a href=\"#There-are-two-main-sources-where-you-can-find-and-install-Python-Packages\" data-toc-modified-id=\"There-are-two-main-sources-where-you-can-find-and-install-Python-Packages-3.2.1\">There are two main sources where you can find and install Python Packages</a></span></li></ul></li><li><span><a href=\"#PyPi\" data-toc-modified-id=\"PyPi-3.3\">PyPi</a></span></li><li><span><a href=\"#Conda-/-Conda-Forge\" data-toc-modified-id=\"Conda-/-Conda-Forge-3.4\">Conda / Conda Forge</a></span></li><li><span><a href=\"#Looping-and-Iteration-in-Python\" data-toc-modified-id=\"Looping-and-Iteration-in-Python-3.5\">Looping and Iteration in Python</a></span><ul class=\"toc-item\"><li><span><a href=\"#Looping-Lists\" data-toc-modified-id=\"Looping-Lists-3.5.1\">Looping Lists</a></span></li><li><span><a href=\"#For-Loops\" data-toc-modified-id=\"For-Loops-3.5.2\">For Loops</a></span><ul class=\"toc-item\"><li><span><a href=\"#Let's-iterate-through-this-list-and-print-each-item\" data-toc-modified-id=\"Let's-iterate-through-this-list-and-print-each-item-3.5.2.1\">Let's iterate through this list and print each item</a></span></li><li><span><a href=\"#Now-let's-do-it-so-that-each-projection-is-Capitalized\" data-toc-modified-id=\"Now-let's-do-it-so-that-each-projection-is-Capitalized-3.5.2.2\">Now let's do it so that each projection is Capitalized</a></span></li><li><span><a href=\"#So-within-a-loop-we-can-apply-a-function-to-each-item-we-iterate-through\" data-toc-modified-id=\"So-within-a-loop-we-can-apply-a-function-to-each-item-we-iterate-through-3.5.2.3\">So within a loop we can apply a function to each item we iterate through</a></span></li><li><span><a href=\"#Next-let's-plot-and-save-a-.png-file-for-each-of-these-projections.\" data-toc-modified-id=\"Next-let's-plot-and-save-a-.png-file-for-each-of-these-projections.-3.5.2.4\">Next let's plot and save a .png file for each of these projections.</a></span></li></ul></li><li><span><a href=\"#Looping-using-the-Range-function\" data-toc-modified-id=\"Looping-using-the-Range-function-3.5.3\">Looping using the Range function</a></span></li><li><span><a href=\"#Enumerate-a-list\" data-toc-modified-id=\"Enumerate-a-list-3.5.4\">Enumerate a list</a></span></li><li><span><a href=\"#Loop-the-Length-of-a-List\" data-toc-modified-id=\"Loop-the-Length-of-a-List-3.5.5\">Loop the Length of a List</a></span></li><li><span><a href=\"#Looping-through-Dictionaries\" data-toc-modified-id=\"Looping-through-Dictionaries-3.5.6\">Looping through Dictionaries</a></span><ul class=\"toc-item\"><li><span><a href=\"#We-can-iterate-through-the-Dictionary's-Keys-with-.keys()-method\" data-toc-modified-id=\"We-can-iterate-through-the-Dictionary's-Keys-with-.keys()-method-3.5.6.1\">We can iterate through the Dictionary's Keys with <code>.keys()</code> method</a></span></li><li><span><a href=\"#We-can-also-iterate-through-the-Dictionary's-Values-with-.values()-method\" data-toc-modified-id=\"We-can-also-iterate-through-the-Dictionary's-Values-with-.values()-method-3.5.6.2\">We can also iterate through the Dictionary's Values with <code>.values()</code> method</a></span></li><li><span><a href=\"#An-alternate-way-to-access-the-values-is-this:\" data-toc-modified-id=\"An-alternate-way-to-access-the-values-is-this:-3.5.6.3\">An alternate way to access the values is this:</a></span></li><li><span><a href=\"#Finally,-we-can-iterate-through-both-the-Dictionary's-Keys-and-Values-with-the-.items()-method\" data-toc-modified-id=\"Finally,-we-can-iterate-through-both-the-Dictionary's-Keys-and-Values-with-the-.items()-method-3.5.6.4\">Finally, we can iterate through both the Dictionary's Keys and Values with the <code>.items()</code> method</a></span></li><li><span><a href=\"#Now-let's-try-and-use-f-strings-to-add-thousands-separator-in-the-Population-values\" data-toc-modified-id=\"Now-let's-try-and-use-f-strings-to-add-thousands-separator-in-the-Population-values-3.5.6.5\">Now let's try and use f-strings to add thousands separator in the Population values</a></span></li></ul></li></ul></li><li><span><a href=\"#While-Loops\" data-toc-modified-id=\"While-Loops-3.6\">While Loops</a></span></li><li><span><a href=\"#Python-Functions\" data-toc-modified-id=\"Python-Functions-3.7\">Python Functions</a></span><ul class=\"toc-item\"><li><span><a href=\"#Define-your-own-Python-Functions\" data-toc-modified-id=\"Define-your-own-Python-Functions-3.7.1\">Define your own Python Functions</a></span><ul class=\"toc-item\"><li><span><a href=\"#The-above-function-does-the-same-thing-every-time,-let's-add-a-Parameter-to-receive-a-user's-input-Argument\" data-toc-modified-id=\"The-above-function-does-the-same-thing-every-time,-let's-add-a-Parameter-to-receive-a-user's-input-Argument-3.7.1.1\">The above function does the same thing every time, let's add a Parameter to receive a user's input Argument</a></span></li><li><span><a href=\"#We-can-add-a-second-parameter-with-a-Default-Value-as-well!\" data-toc-modified-id=\"We-can-add-a-second-parameter-with-a-Default-Value-as-well!-3.7.1.2\">We can add a second parameter with a Default Value as well!</a></span></li><li><span><a href=\"#Note-that-the-order-matters,-I-can-change-the-order-if-I-define-the-input-the-keyword-and-the-argument.\" data-toc-modified-id=\"Note-that-the-order-matters,-I-can-change-the-order-if-I-define-the-input-the-keyword-and-the-argument.-3.7.1.3\">Note that the order matters, I can change the order if I define the input the keyword and the argument.</a></span></li></ul></li></ul></li><li><span><a href=\"#If---Elif---Else-Condition-Flow\" data-toc-modified-id=\"If---Elif---Else-Condition-Flow-3.8\">If - Elif - Else Condition Flow</a></span><ul class=\"toc-item\"><li><span><a href=\"#Now-let's-put-these-conditions-into-a-function\" data-toc-modified-id=\"Now-let's-put-these-conditions-into-a-function-3.8.1\">Now let's put these conditions into a function</a></span></li></ul></li><li><span><a href=\"#Geospatial-Data-Models\" data-toc-modified-id=\"Geospatial-Data-Models-3.9\">Geospatial Data Models</a></span><ul class=\"toc-item\"><li><span><a href=\"#Vector-Data-Model\" data-toc-modified-id=\"Vector-Data-Model-3.9.1\">Vector Data Model</a></span></li><li><span><a href=\"#Install-GeoPandas\" data-toc-modified-id=\"Install-GeoPandas-3.9.2\">Install GeoPandas</a></span><ul class=\"toc-item\"><li><span><a href=\"#One-dependency-(another-Python-Library-GeoPandas-depends-on)-is-Shapely\" data-toc-modified-id=\"One-dependency-(another-Python-Library-GeoPandas-depends-on)-is-Shapely-3.9.2.1\">One dependency (another Python Library GeoPandas depends on) is Shapely</a></span></li></ul></li><li><span><a href=\"#Points\" data-toc-modified-id=\"Points-3.9.3\">Points</a></span></li><li><span><a href=\"#Lines---(LineString)\" data-toc-modified-id=\"Lines---(LineString)-3.9.4\">Lines - (LineString)</a></span></li><li><span><a href=\"#Intersection-of-Two-LineString-Objects\" data-toc-modified-id=\"Intersection-of-Two-LineString-Objects-3.9.5\">Intersection of Two LineString Objects</a></span></li><li><span><a href=\"#Polygons\" data-toc-modified-id=\"Polygons-3.9.6\">Polygons</a></span><ul class=\"toc-item\"><li><span><a href=\"#MultiPoint\" data-toc-modified-id=\"MultiPoint-3.9.6.1\">MultiPoint</a></span></li></ul></li></ul></li><li><span><a href=\"#Folium-(Python---Leaflet)-Mapping-Example\" data-toc-modified-id=\"Folium-(Python---Leaflet)-Mapping-Example-3.10\">Folium (Python - Leaflet) Mapping Example</a></span><ul class=\"toc-item\"><li><ul class=\"toc-item\"><li><span><a href=\"#First-let's-conda-install-folium.\" data-toc-modified-id=\"First-let's-conda-install-folium.-3.10.0.1\">First let's conda install folium.</a></span></li><li><span><a href=\"#Now-let's-save-this-Leaflet-map-as-an-html-webpage.\" data-toc-modified-id=\"Now-let's-save-this-Leaflet-map-as-an-html-webpage.-3.10.0.2\">Now let's save this Leaflet map as an html webpage.</a></span></li></ul></li></ul></li><li><span><a href=\"#More-GitHub---a-walk-through-the-platform.\" data-toc-modified-id=\"More-GitHub---a-walk-through-the-platform.-3.11\">More GitHub - a walk-through the platform.</a></span></li></ul></li></ul></div>"
   ]
  },
  {
   "cell_type": "markdown",
   "metadata": {},
   "source": [
    "## Learning Objectives\n",
    "\n",
    "* Introduction to Python Libraries\n",
    "* Looping and Iteration\n",
    "* Introduce the concept of Functions in Python\n",
    "* Introduce Students to our Python Setup\n",
    "* Spatial Data Models\n",
    "* GitHub"
   ]
  },
  {
   "cell_type": "markdown",
   "metadata": {},
   "source": [
    "\n",
    "### Fork this Lesson Repo\n",
    "\n",
    "https://github.com/pratt-savi-810/pratt-savi-810-2020-03-lesson_02\n"
   ]
  },
  {
   "cell_type": "markdown",
   "metadata": {},
   "source": [
    "## GitHub\n",
    "\n",
    "\n",
    "\n",
    "\n"
   ]
  },
  {
   "cell_type": "code",
   "execution_count": 1,
   "metadata": {},
   "outputs": [
    {
     "data": {
      "image/jpeg": "[encoded data removed]",
      "text/html": [
       "\n",
       "        <iframe\n",
       "            width=\"600\"\n",
       "            height=\"300\"\n",
       "            src=\"https://www.youtube.com/embed/w3jLJU7DT5E\"\n",
       "            frameborder=\"0\"\n",
       "            allowfullscreen\n",
       "        ></iframe>\n",
       "        "
      ],
      "text/plain": [
       "<IPython.lib.display.YouTubeVideo at 0x10f245750>"
      ]
     },
     "execution_count": 1,
     "metadata": {},
     "output_type": "execute_result"
    }
   ],
   "source": [
    "from IPython.display import YouTubeVideo\n",
    "\n",
    "YouTubeVideo('w3jLJU7DT5E', width=600)"
   ]
  },
  {
   "cell_type": "code",
   "execution_count": 2,
   "metadata": {},
   "outputs": [
    {
     "data": {
      "text/html": [
       "\n",
       "        <iframe\n",
       "            width=\"700\"\n",
       "            height=\"600\"\n",
       "            src=\"https://guides.github.com/activities/hello-world/\"\n",
       "            frameborder=\"0\"\n",
       "            allowfullscreen\n",
       "        ></iframe>\n",
       "        "
      ],
      "text/plain": [
       "<IPython.lib.display.IFrame at 0x10f22ef10>"
      ]
     },
     "execution_count": 2,
     "metadata": {},
     "output_type": "execute_result"
    }
   ],
   "source": [
    "from IPython.display import IFrame\n",
    "\n",
    "IFrame(src='https://guides.github.com/activities/hello-world/', width=700, height=600)"
   ]
  },
  {
   "cell_type": "markdown",
   "metadata": {},
   "source": [
    "# Finishing up From Lecture 01"
   ]
  },
  {
   "cell_type": "markdown",
   "metadata": {},
   "source": [
    "## Built-in Python Functions\n",
    "We saw the `type()` function when we were looking at Data Types"
   ]
  },
  {
   "cell_type": "code",
   "execution_count": 215,
   "metadata": {},
   "outputs": [],
   "source": [
    "# round"
   ]
  },
  {
   "cell_type": "code",
   "execution_count": 216,
   "metadata": {},
   "outputs": [],
   "source": [
    "# round to nearest two decimal places"
   ]
  },
  {
   "cell_type": "code",
   "execution_count": 217,
   "metadata": {},
   "outputs": [],
   "source": [
    " \n",
    "# get the length of s, the set from above"
   ]
  },
  {
   "cell_type": "code",
   "execution_count": null,
   "metadata": {},
   "outputs": [],
   "source": []
  },
  {
   "cell_type": "code",
   "execution_count": null,
   "metadata": {},
   "outputs": [],
   "source": []
  },
  {
   "cell_type": "code",
   "execution_count": null,
   "metadata": {},
   "outputs": [],
   "source": []
  },
  {
   "cell_type": "code",
   "execution_count": null,
   "metadata": {},
   "outputs": [],
   "source": []
  },
  {
   "cell_type": "markdown",
   "metadata": {},
   "source": [
    "### Python's Built-in Functions"
   ]
  },
  {
   "cell_type": "code",
   "execution_count": 60,
   "metadata": {},
   "outputs": [
    {
     "data": {
      "text/html": [
       "\n",
       "        <iframe\n",
       "            width=\"700\"\n",
       "            height=\"600\"\n",
       "            src=\"https://docs.python.org/3/library/functions.html\"\n",
       "            frameborder=\"0\"\n",
       "            allowfullscreen\n",
       "        ></iframe>\n",
       "        "
      ],
      "text/plain": [
       "<IPython.lib.display.IFrame at 0x1200516d0>"
      ]
     },
     "execution_count": 60,
     "metadata": {},
     "output_type": "execute_result"
    }
   ],
   "source": [
    "IFrame(src='https://docs.python.org/3/library/functions.html', width=700, height=600)"
   ]
  },
  {
   "cell_type": "markdown",
   "metadata": {},
   "source": [
    "## Python Libraries\n",
    "\n",
    "> Python’s standard library is very extensive, offering a wide range of facilities as indicated by the long table of contents listed below. The library contains built-in modules (written in C) that provide access to system functionality such as file I/O that would otherwise be inaccessible to Python programmers, as well as modules written in Python that provide standardized solutions for many problems that occur in everyday programming. Some of these modules are explicitly designed to encourage and enhance the portability of Python programs by abstracting away platform-specifics into platform-neutral APIs. Source: https://docs.python.org/3/library/\n",
    "\n",
    "Some functions are not immediately accessible and we need to `import` certain libraries for use. \n",
    "\n",
    "\n",
    "#### You can import a library for handling Dates & Time called datetime\n",
    "\n"
   ]
  },
  {
   "cell_type": "code",
   "execution_count": null,
   "metadata": {},
   "outputs": [],
   "source": []
  },
  {
   "cell_type": "code",
   "execution_count": null,
   "metadata": {},
   "outputs": [],
   "source": []
  },
  {
   "cell_type": "code",
   "execution_count": null,
   "metadata": {},
   "outputs": [],
   "source": []
  },
  {
   "cell_type": "code",
   "execution_count": null,
   "metadata": {},
   "outputs": [],
   "source": []
  },
  {
   "cell_type": "markdown",
   "metadata": {},
   "source": [
    "#### You can install packages to convert text to ASCII art"
   ]
  },
  {
   "cell_type": "code",
   "execution_count": 9,
   "metadata": {},
   "outputs": [],
   "source": [
    "# !conda install -c sepandhaghighi art --yes  \n",
    "\n",
    "# let's run this conda install, uncomment the code above "
   ]
  },
  {
   "cell_type": "code",
   "execution_count": null,
   "metadata": {},
   "outputs": [],
   "source": []
  },
  {
   "cell_type": "code",
   "execution_count": null,
   "metadata": {},
   "outputs": [],
   "source": []
  },
  {
   "cell_type": "code",
   "execution_count": null,
   "metadata": {},
   "outputs": [],
   "source": []
  },
  {
   "cell_type": "markdown",
   "metadata": {},
   "source": [
    "#### You can import plotting libraries like `matplotlib` for data visualization"
   ]
  },
  {
   "cell_type": "code",
   "execution_count": 218,
   "metadata": {},
   "outputs": [],
   "source": [
    "import matplotlib.pyplot as plt\n",
    "\n"
   ]
  },
  {
   "cell_type": "markdown",
   "metadata": {},
   "source": [
    "### There are two main sources where you can find and install Python Packages\n",
    "\n",
    "## PyPi \n",
    "\n",
    "[![PyPi](https://pypi.org/static/images/logo-large.72ad8bf1.svg)](https://pypi.org/)\n",
    "\n",
    "> The Python Package Index (PyPI) is a repository of software for the Python programming language. Source: https://pypi.org/\n",
    "\n",
    "There's around 250,000 PyPi packages. Some larger and more useful others more task-specific. \n",
    "\n",
    "* `pandas` for example, a very large data management and analysis package that we'll use throughout the course, contains an amazing amount of features, almost as feature-rich as a software package like Excel or ArcGIS or QGIS. \n",
    "\n",
    "* While this package `python-geoclient` https://github.com/ishiland/python-geoclient is very specific for geocoding addresses in New York City. \n",
    "\n",
    "> Geocoding is the process of taking input text, such as an address or the name of a place, and returning a latitude/longitude location on the Earth's surface for that place. Source: https://en.wikipedia.org/wiki/Geocoding\n",
    "\n",
    "**pip install example for pandas:**\n",
    "\n",
    "`pip install pandas`  \n",
    "\n",
    "## Conda / Conda Forge\n",
    "\n",
    "[![Conda Forge](https://cdn.shortpixel.ai/spai/w_532+q_lossy+ret_img+to_webp/https://numfocus.org/wp-content/uploads/2018/09/conda-forge-square.png)](https://conda-forge.org/)\n",
    "\n",
    "> Conda and pip are often considered as being nearly identical. Although some of the functionality of these two tools overlap, they were designed and should be used for different purposes. Pip is the Python Packaging Authority’s recommended tool for installing packages from the Python Package Index, PyPI. Pip installs Python software packaged as wheels or source distributions. The latter may require that the system have compatible compilers, and possibly libraries, installed before invoking pip to succeed.\n",
    "\n",
    "> Conda is a cross platform package and environment manager that installs and manages conda packages from the Anaconda repository as well as from the Anaconda Cloud. Conda packages are binaries. There is never a need to have compilers available to install them. Additionally conda packages are not limited to Python software. They may also contain C or C++ libraries, R packages or any other software.\n",
    "\n",
    "> This highlights a key difference between conda and pip. Pip installs Python packages whereas conda installs packages which may contain software written in any language. For example, before using pip, a Python interpreter must be installed via a system package manager or by downloading and running an installer. Conda on the other hand can install Python packages as well as the Python interpreter directly. Source: https://www.anaconda.com/understanding-conda-and-pip/\n",
    "\n",
    "**Conda update Conda example:** \n",
    "\n",
    "`!conda update -n base -c defaults conda --yes`\n",
    "\n",
    "**Conda install folium (python leaflet map library) example:**\n",
    "\n",
    "`!conda install folium -c conda-forge --yes`\n",
    "\n"
   ]
  },
  {
   "cell_type": "markdown",
   "metadata": {},
   "source": [
    "\n",
    "## Looping and Iteration in Python\n",
    "\n",
    "http://openbookproject.net/thinkcs/python/english3e/iteration.html\n",
    "\n",
    "### Looping Lists\n",
    "\n",
    "We can iterate through the Python list collection object with a **For Loop**."
   ]
  },
  {
   "cell_type": "code",
   "execution_count": 28,
   "metadata": {},
   "outputs": [],
   "source": [
    "# Lists\n",
    "projections = [\"aitoff\", \"mollweide\", \"hammer\", \"lambert\"]"
   ]
  },
  {
   "cell_type": "markdown",
   "metadata": {},
   "source": [
    "### For Loops\n",
    "\n",
    "> When do I use for loops?\n",
    "\n",
    "> for loops are traditionally used when you have a block of code which you want to repeat a fixed number of times. The Python for statement iterates over the members of a sequence in order, executing the block each time. Source: https://wiki.python.org/moin/ForLoop\n",
    "\n",
    "#### Let's iterate through this list and print each item\n"
   ]
  },
  {
   "cell_type": "code",
   "execution_count": null,
   "metadata": {},
   "outputs": [],
   "source": []
  },
  {
   "cell_type": "markdown",
   "metadata": {},
   "source": [
    "#### Now let's do it so that each projection is Capitalized"
   ]
  },
  {
   "cell_type": "code",
   "execution_count": null,
   "metadata": {},
   "outputs": [],
   "source": []
  },
  {
   "cell_type": "markdown",
   "metadata": {},
   "source": [
    "#### So within a loop we can apply a function to each item we iterate through\n",
    "\n",
    "#### Next let's plot and save a .png file for each of these projections. "
   ]
  },
  {
   "cell_type": "code",
   "execution_count": null,
   "metadata": {},
   "outputs": [],
   "source": []
  },
  {
   "cell_type": "markdown",
   "metadata": {},
   "source": [
    "### Looping using the Range function\n",
    "\n",
    "> The range type represents an immutable sequence of numbers and is commonly used for looping a specific number of times in for loops. Source: https://docs.python.org/3/library/stdtypes.html#range\n",
    "\n",
    "**Range fucntion arguments**\n",
    "\n",
    "* **start** - The value of the start parameter (or 0 if the parameter was not supplied)\n",
    "\n",
    "* **stop** - The value of the stop parameter\n",
    "\n",
    "* **step** - The value of the step parameter (or 1 if the parameter was not supplied)"
   ]
  },
  {
   "cell_type": "code",
   "execution_count": null,
   "metadata": {},
   "outputs": [],
   "source": []
  },
  {
   "cell_type": "code",
   "execution_count": null,
   "metadata": {},
   "outputs": [],
   "source": []
  },
  {
   "cell_type": "code",
   "execution_count": null,
   "metadata": {},
   "outputs": [],
   "source": []
  },
  {
   "cell_type": "code",
   "execution_count": null,
   "metadata": {},
   "outputs": [],
   "source": []
  },
  {
   "cell_type": "markdown",
   "metadata": {},
   "source": [
    "### Enumerate a list\n",
    "\n",
    "> When looping through a sequence, the position index and corresponding value can be retrieved at the same time using the enumerate() function. Source: https://docs.python.org/3/tutorial/datastructures.html"
   ]
  },
  {
   "cell_type": "code",
   "execution_count": null,
   "metadata": {},
   "outputs": [],
   "source": []
  },
  {
   "cell_type": "markdown",
   "metadata": {},
   "source": [
    "### Loop the Length of a List\n",
    "\n",
    "You can use the `len()` function to get the length of a list and Loop through it. \n",
    "\n",
    "_In this case you could also Enumerate._"
   ]
  },
  {
   "cell_type": "code",
   "execution_count": null,
   "metadata": {},
   "outputs": [],
   "source": []
  },
  {
   "cell_type": "markdown",
   "metadata": {},
   "source": [
    "### Looping through Dictionaries \n",
    "\n",
    "> In Python 3.6 and beyond, **dictionaries are ordered data structures**, which means that they **keep their elements in the same order in which they were introduced**.\n",
    "\n",
    "> This is a relatively new feature of Python’s dictionaries, and it’s a very useful one. But if you’re writing code that is supposed to be run in different Python versions, then you must not rely on this feature, because it can generate buggy behaviors.\n",
    "\n",
    "> Another important feature of **dictionaries** is that they **are mutable data structures**, which means that you can add, delete, and update their items. It’s worth noting that this also means that they can’t be used as keys to other dictionaries, as they are not hashable objects. Source: https://realpython.com/iterate-through-dictionary-python/"
   ]
  },
  {
   "cell_type": "code",
   "execution_count": 219,
   "metadata": {},
   "outputs": [],
   "source": [
    "# Dictionaries\n",
    "boros = {\n",
    "    'brooklyn': 2_582_830,\n",
    "    'bronx': 1_432_132,\n",
    "    'manhattan': 1_628_701,\n",
    "    'queens': 2_278_906,\n",
    "    'staten_island': 476_179  # source: https://www.citypopulation.de/en/usa/newyorkcity/\n",
    "}"
   ]
  },
  {
   "cell_type": "markdown",
   "metadata": {},
   "source": [
    "#### We can iterate through the Dictionary's Keys with `.keys()` method"
   ]
  },
  {
   "cell_type": "code",
   "execution_count": null,
   "metadata": {},
   "outputs": [],
   "source": []
  },
  {
   "cell_type": "markdown",
   "metadata": {},
   "source": [
    "#### We can also iterate through the Dictionary's Values with `.values()` method"
   ]
  },
  {
   "cell_type": "code",
   "execution_count": null,
   "metadata": {},
   "outputs": [],
   "source": []
  },
  {
   "cell_type": "markdown",
   "metadata": {},
   "source": [
    "#### An alternate way to access the values is this:"
   ]
  },
  {
   "cell_type": "code",
   "execution_count": 220,
   "metadata": {},
   "outputs": [],
   "source": [
    "# access the value by passing the dictionary key\n"
   ]
  },
  {
   "cell_type": "markdown",
   "metadata": {},
   "source": [
    "#### Finally, we can iterate through both the Dictionary's Keys and Values with the `.items()` method"
   ]
  },
  {
   "cell_type": "code",
   "execution_count": null,
   "metadata": {},
   "outputs": [],
   "source": []
  },
  {
   "cell_type": "markdown",
   "metadata": {},
   "source": [
    "#### Now let's try and use f-strings to add thousands separator in the Population values"
   ]
  },
  {
   "cell_type": "code",
   "execution_count": null,
   "metadata": {},
   "outputs": [],
   "source": []
  },
  {
   "cell_type": "markdown",
   "metadata": {},
   "source": [
    "## While Loops\n",
    "\n",
    "> With the while loop we can execute a set of statements as long as a condition is true. Source: https://www.w3schools.com/python/python_while_loops.asp"
   ]
  },
  {
   "cell_type": "code",
   "execution_count": null,
   "metadata": {},
   "outputs": [],
   "source": []
  },
  {
   "cell_type": "markdown",
   "metadata": {},
   "source": [
    "## Python Functions\n",
    "\n",
    "\n",
    "### Define your own Python Functions\n",
    "\n",
    "A function is a set of instructions. \n",
    "\n",
    "```THREAD Why might you want to define your own Functions in Python?```\n",
    "\n",
    "\n",
    "Use `def` prior to your function name, and follow with a colon to close in the function. "
   ]
  },
  {
   "cell_type": "code",
   "execution_count": null,
   "metadata": {},
   "outputs": [],
   "source": []
  },
  {
   "cell_type": "code",
   "execution_count": null,
   "metadata": {},
   "outputs": [],
   "source": []
  },
  {
   "cell_type": "markdown",
   "metadata": {},
   "source": [
    "#### The above function does the same thing every time, let's add a Parameter to receive a user's input Argument\n",
    "\n",
    "> Generally when people say parameter/argument they mean the same thing, but the main difference between them is that the **parameter is what is declared in the function**, while an **argument is what is passed through when calling the function**. Source: https://stackoverflow.com/questions/47169033/parameter-vs-argument-python"
   ]
  },
  {
   "cell_type": "code",
   "execution_count": 136,
   "metadata": {},
   "outputs": [],
   "source": []
  },
  {
   "cell_type": "code",
   "execution_count": null,
   "metadata": {},
   "outputs": [],
   "source": []
  },
  {
   "cell_type": "markdown",
   "metadata": {},
   "source": [
    "#### We can add a second parameter with a Default Value as well!   "
   ]
  },
  {
   "cell_type": "code",
   "execution_count": null,
   "metadata": {},
   "outputs": [],
   "source": []
  },
  {
   "cell_type": "code",
   "execution_count": null,
   "metadata": {},
   "outputs": [],
   "source": []
  },
  {
   "cell_type": "code",
   "execution_count": null,
   "metadata": {},
   "outputs": [],
   "source": []
  },
  {
   "cell_type": "markdown",
   "metadata": {},
   "source": [
    "#### Note that the order matters, I can change the order if I define the input the keyword and the argument."
   ]
  },
  {
   "cell_type": "code",
   "execution_count": null,
   "metadata": {},
   "outputs": [],
   "source": []
  },
  {
   "cell_type": "markdown",
   "metadata": {},
   "source": [
    "## If - Elif - Else Condition Flow\n",
    "\n",
    "Let's say we have a variable called speed, which is your driving speed. "
   ]
  },
  {
   "cell_type": "code",
   "execution_count": 148,
   "metadata": {},
   "outputs": [],
   "source": [
    "speed = 40"
   ]
  },
  {
   "cell_type": "code",
   "execution_count": null,
   "metadata": {},
   "outputs": [],
   "source": []
  },
  {
   "cell_type": "markdown",
   "metadata": {},
   "source": [
    "### Now let's put these conditions into a function"
   ]
  },
  {
   "cell_type": "code",
   "execution_count": null,
   "metadata": {},
   "outputs": [],
   "source": []
  },
  {
   "cell_type": "code",
   "execution_count": null,
   "metadata": {},
   "outputs": [],
   "source": []
  },
  {
   "cell_type": "code",
   "execution_count": null,
   "metadata": {},
   "outputs": [],
   "source": []
  },
  {
   "cell_type": "code",
   "execution_count": null,
   "metadata": {},
   "outputs": [],
   "source": []
  },
  {
   "cell_type": "markdown",
   "metadata": {},
   "source": [
    "\n",
    "## Geospatial Data Models \n",
    "\n",
    "> A data model is a way of defining and representing real world surfaces and characteristics in GIS. There are two primary types of spatial data models: Vector and Raster.\n",
    "  * Vector data represents features as discrete points, lines, and polygons\n",
    "  * Raster data represents features as a rectangular matrix of square cells (pixels)\n",
    "    \n",
    "    Source: http://gsp.humboldt.edu/OLM/Courses/GSP_216_Online/lesson3-1/data-models.html\n",
    "\n",
    "### Vector Data Model\n",
    "\n",
    "> Vector data is very common, and is often used to represent features like roads and boundaries. Vector data comes in the form of points and lines that are geometrically and mathematically associated.  \n",
    "\n",
    "> * Points:\n",
    "    * One pair of coordinates defines the location of a point feature.\n",
    "    * Individual X,Y\n",
    "\n",
    "> * Polylines (LineStrings):\n",
    "    * Two or more pairs of coordinates that are connected define a line feature.\n",
    "    * A series of connected points - Actually, a set of series of connected points.\n",
    "\n",
    "> * Polygons:\n",
    "    * Multiple pairs of coordinates that are connected and closed define a polygon feature.\n",
    "    * A series of connected points that loop back to the first point\n",
    "      * Multiple \"polygons\" can exist in one layer\n",
    "      * Polygons can have internal polygons or \"holes\"\n",
    "      * The beginning and ending coordinates for a polygon are the same.\n",
    "      \n",
    "      Source: http://gsp.humboldt.edu/OLM/Courses/GSP_216_Online/lesson3-1/data-models.html\n"
   ]
  },
  {
   "cell_type": "markdown",
   "metadata": {},
   "source": [
    "### Install GeoPandas\n",
    "#### One dependency (another Python Library GeoPandas depends on) is Shapely"
   ]
  },
  {
   "cell_type": "code",
   "execution_count": null,
   "metadata": {},
   "outputs": [],
   "source": [
    "!conda install --channel conda-forge geopandas"
   ]
  },
  {
   "cell_type": "markdown",
   "metadata": {},
   "source": [
    "### Points"
   ]
  },
  {
   "cell_type": "code",
   "execution_count": null,
   "metadata": {},
   "outputs": [],
   "source": [
    "from shapely.geometry import Point"
   ]
  },
  {
   "cell_type": "code",
   "execution_count": 169,
   "metadata": {},
   "outputs": [
    {
     "data": {
      "image/svg+xml": [
       "<svg xmlns=\"http://www.w3.org/2000/svg\" xmlns:xlink=\"http://www.w3.org/1999/xlink\" width=\"100.0\" height=\"100.0\" viewBox=\"-1.0 -1.0 2.0 2.0\" preserveAspectRatio=\"xMinYMin meet\"><g transform=\"matrix(1,0,0,-1,0,0.0)\"><circle cx=\"0.0\" cy=\"0.0\" r=\"0.06\" stroke=\"#555555\" stroke-width=\"0.02\" fill=\"#66cc99\" opacity=\"0.6\" /></g></svg>"
      ],
      "text/plain": [
       "<shapely.geometry.point.Point at 0x12e728710>"
      ]
     },
     "execution_count": 169,
     "metadata": {},
     "output_type": "execute_result"
    }
   ],
   "source": []
  },
  {
   "cell_type": "code",
   "execution_count": 171,
   "metadata": {},
   "outputs": [
    {
     "data": {
      "image/svg+xml": [
       "<svg xmlns=\"http://www.w3.org/2000/svg\" xmlns:xlink=\"http://www.w3.org/1999/xlink\" width=\"100.0\" height=\"100.0\" viewBox=\"44.0 99.0 2.0 2.0\" preserveAspectRatio=\"xMinYMin meet\"><g transform=\"matrix(1,0,0,-1,0,200.0)\"><circle cx=\"45.0\" cy=\"100.0\" r=\"0.06\" stroke=\"#555555\" stroke-width=\"0.02\" fill=\"#66cc99\" opacity=\"0.6\" /></g></svg>"
      ],
      "text/plain": [
       "<shapely.geometry.point.Point at 0x12e724110>"
      ]
     },
     "execution_count": 171,
     "metadata": {},
     "output_type": "execute_result"
    }
   ],
   "source": []
  },
  {
   "cell_type": "markdown",
   "metadata": {},
   "source": [
    "### Lines - (LineString)"
   ]
  },
  {
   "cell_type": "code",
   "execution_count": 173,
   "metadata": {},
   "outputs": [],
   "source": [
    "# import LineString... this comes from shapely.geometry "
   ]
  },
  {
   "cell_type": "code",
   "execution_count": null,
   "metadata": {},
   "outputs": [],
   "source": []
  },
  {
   "cell_type": "code",
   "execution_count": null,
   "metadata": {},
   "outputs": [],
   "source": []
  },
  {
   "cell_type": "code",
   "execution_count": null,
   "metadata": {},
   "outputs": [],
   "source": []
  },
  {
   "cell_type": "code",
   "execution_count": null,
   "metadata": {},
   "outputs": [],
   "source": []
  },
  {
   "cell_type": "markdown",
   "metadata": {},
   "source": [
    "### Intersection of Two LineString Objects"
   ]
  },
  {
   "cell_type": "code",
   "execution_count": null,
   "metadata": {},
   "outputs": [],
   "source": []
  },
  {
   "cell_type": "markdown",
   "metadata": {},
   "source": [
    "### Polygons"
   ]
  },
  {
   "cell_type": "code",
   "execution_count": 180,
   "metadata": {},
   "outputs": [],
   "source": [
    "# import Polygon "
   ]
  },
  {
   "cell_type": "code",
   "execution_count": 205,
   "metadata": {},
   "outputs": [],
   "source": []
  },
  {
   "cell_type": "code",
   "execution_count": null,
   "metadata": {},
   "outputs": [],
   "source": []
  },
  {
   "cell_type": "code",
   "execution_count": null,
   "metadata": {},
   "outputs": [],
   "source": []
  },
  {
   "cell_type": "code",
   "execution_count": null,
   "metadata": {},
   "outputs": [],
   "source": []
  },
  {
   "cell_type": "code",
   "execution_count": null,
   "metadata": {},
   "outputs": [],
   "source": []
  },
  {
   "cell_type": "markdown",
   "metadata": {},
   "source": [
    "#### MultiPoint "
   ]
  },
  {
   "cell_type": "code",
   "execution_count": 211,
   "metadata": {},
   "outputs": [],
   "source": [
    "# from shapely.geometry import MultiPoint"
   ]
  },
  {
   "cell_type": "code",
   "execution_count": null,
   "metadata": {},
   "outputs": [],
   "source": []
  },
  {
   "cell_type": "code",
   "execution_count": null,
   "metadata": {},
   "outputs": [],
   "source": []
  },
  {
   "cell_type": "markdown",
   "metadata": {},
   "source": [
    "## Folium (Python - Leaflet) Mapping Example\n",
    "\n",
    "#### First let's conda install folium. "
   ]
  },
  {
   "cell_type": "code",
   "execution_count": 118,
   "metadata": {},
   "outputs": [
    {
     "name": "stdout",
     "output_type": "stream",
     "text": [
      "Collecting package metadata (current_repodata.json): done\n",
      "Solving environment: done\n",
      "\n",
      "\n",
      "==> WARNING: A newer version of conda exists. <==\n",
      "  current version: 4.8.2\n",
      "  latest version: 4.8.3\n",
      "\n",
      "Please update conda by running\n",
      "\n",
      "    $ conda update -n base -c defaults conda\n",
      "\n",
      "\n",
      "\n",
      "# All requested packages already installed.\n",
      "\n"
     ]
    }
   ],
   "source": [
    "!conda install folium -c conda-forge --yes"
   ]
  },
  {
   "cell_type": "code",
   "execution_count": 222,
   "metadata": {},
   "outputs": [],
   "source": [
    "import folium \n",
    "\n"
   ]
  },
  {
   "cell_type": "markdown",
   "metadata": {},
   "source": [
    "#### Now let's save this Leaflet map as an html webpage. "
   ]
  },
  {
   "cell_type": "code",
   "execution_count": null,
   "metadata": {},
   "outputs": [],
   "source": []
  },
  {
   "cell_type": "markdown",
   "metadata": {},
   "source": [
    "## More GitHub - a walk-through the platform. \n",
    "\n",
    "https://github.com/pratt-savi-810"
   ]
  },
  {
   "cell_type": "code",
   "execution_count": null,
   "metadata": {},
   "outputs": [],
   "source": []
  }
 ],
 "metadata": {
  "kernelspec": {
   "display_name": "Python 3",
   "language": "python",
   "name": "python3"
  },
  "language_info": {
   "codemirror_mode": {
    "name": "ipython",
    "version": 3
   },
   "file_extension": ".py",
   "mimetype": "text/x-python",
   "name": "python",
   "nbconvert_exporter": "python",
   "pygments_lexer": "ipython3",
   "version": "3.7.5"
  },
  "toc": {
   "base_numbering": 1,
   "nav_menu": {},
   "number_sections": false,
   "sideBar": true,
   "skip_h1_title": false,
   "title_cell": "Table of Contents",
   "title_sidebar": "Contents",
   "toc_cell": true,
   "toc_position": {
    "height": "calc(100% - 180px)",
    "left": "10px",
    "top": "150px",
    "width": "263.4px"
   },
   "toc_section_display": true,
   "toc_window_display": true
  }
 },
 "nbformat": 4,
 "nbformat_minor": 2
}
